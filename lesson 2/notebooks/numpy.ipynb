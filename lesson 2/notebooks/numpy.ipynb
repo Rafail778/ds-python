{
 "cells": [
  {
   "cell_type": "markdown",
   "metadata": {
    "collapsed": true,
    "pycharm": {
     "name": "#%% md\n"
    }
   },
   "source": [
    "# Numpy"
   ]
  },
  {
   "cell_type": "code",
   "execution_count": 9,
   "outputs": [
    {
     "data": {
      "text/plain": "array([[14, 13],\n       [12, 20]])"
     },
     "execution_count": 9,
     "metadata": {},
     "output_type": "execute_result"
    }
   ],
   "source": [
    "import numpy as np\n",
    "x = np.array([[1,0,4],[3,3,1]])\n",
    "y = np.array([[2,5],[1,1],[3,2]])\n",
    "x.dot(y)"
   ],
   "metadata": {
    "collapsed": false,
    "pycharm": {
     "name": "#%%\n"
    }
   }
  },
  {
   "cell_type": "code",
   "execution_count": 15,
   "outputs": [
    {
     "data": {
      "text/plain": "array([[1, 0, 4],\n       [3, 3, 1]])"
     },
     "execution_count": 15,
     "metadata": {},
     "output_type": "execute_result"
    }
   ],
   "source": [
    "x"
   ],
   "metadata": {
    "collapsed": false,
    "pycharm": {
     "name": "#%%\n"
    }
   }
  },
  {
   "cell_type": "code",
   "execution_count": 6,
   "outputs": [
    {
     "data": {
      "text/plain": "array([[1, 2, 3],\n       [4, 5, 6]])"
     },
     "execution_count": 6,
     "metadata": {},
     "output_type": "execute_result"
    }
   ],
   "source": [
    "\n",
    "x = np.array([[1,2,3],[4,5,6]])\n",
    "x"
   ],
   "metadata": {
    "collapsed": false,
    "pycharm": {
     "name": "#%%\n"
    }
   }
  },
  {
   "cell_type": "code",
   "execution_count": 13,
   "outputs": [
    {
     "data": {
      "text/plain": "numpy.ndarray"
     },
     "execution_count": 13,
     "metadata": {},
     "output_type": "execute_result"
    }
   ],
   "source": [
    "type(x)"
   ],
   "metadata": {
    "collapsed": false,
    "pycharm": {
     "name": "#%%\n"
    }
   }
  },
  {
   "cell_type": "code",
   "execution_count": 14,
   "outputs": [
    {
     "data": {
      "text/plain": "(2, 3)"
     },
     "execution_count": 14,
     "metadata": {},
     "output_type": "execute_result"
    }
   ],
   "source": [
    "x.shape"
   ],
   "metadata": {
    "collapsed": false,
    "pycharm": {
     "name": "#%%\n"
    }
   }
  },
  {
   "cell_type": "code",
   "execution_count": 16,
   "outputs": [
    {
     "data": {
      "text/plain": "2"
     },
     "execution_count": 16,
     "metadata": {},
     "output_type": "execute_result"
    }
   ],
   "source": [
    "x.ndim"
   ],
   "metadata": {
    "collapsed": false,
    "pycharm": {
     "name": "#%%\n"
    }
   }
  },
  {
   "cell_type": "code",
   "execution_count": 17,
   "outputs": [
    {
     "data": {
      "text/plain": "6"
     },
     "execution_count": 17,
     "metadata": {},
     "output_type": "execute_result"
    }
   ],
   "source": [
    "x.size"
   ],
   "metadata": {
    "collapsed": false,
    "pycharm": {
     "name": "#%%\n"
    }
   }
  },
  {
   "cell_type": "code",
   "execution_count": 18,
   "outputs": [
    {
     "data": {
      "text/plain": "dtype('int64')"
     },
     "execution_count": 18,
     "metadata": {},
     "output_type": "execute_result"
    }
   ],
   "source": [
    "x.dtype"
   ],
   "metadata": {
    "collapsed": false,
    "pycharm": {
     "name": "#%%\n"
    }
   }
  },
  {
   "cell_type": "code",
   "execution_count": 20,
   "outputs": [
    {
     "data": {
      "text/plain": "48"
     },
     "execution_count": 20,
     "metadata": {},
     "output_type": "execute_result"
    }
   ],
   "source": [
    "x.nbytes"
   ],
   "metadata": {
    "collapsed": false,
    "pycharm": {
     "name": "#%%\n"
    }
   }
  },
  {
   "cell_type": "code",
   "execution_count": 22,
   "outputs": [],
   "source": [
    "x = np.array([[1, 2, 3], [4, 5, 6]], dtype=float)"
   ],
   "metadata": {
    "collapsed": false,
    "pycharm": {
     "name": "#%%\n"
    }
   }
  },
  {
   "cell_type": "code",
   "execution_count": 23,
   "outputs": [],
   "source": [
    "\n",
    "\n"
   ],
   "metadata": {
    "collapsed": false,
    "pycharm": {
     "name": "#%%\n"
    }
   }
  },
  {
   "cell_type": "code",
   "execution_count": 24,
   "outputs": [
    {
     "name": "stdout",
     "output_type": "stream",
     "text": [
      "[[1. 2. 3.]\n",
      " [4. 5. 6.]]\n",
      "48\n"
     ]
    }
   ],
   "source": [
    "\n",
    "x = np.array([[1, 2, 3], [4, 5, 6]], dtype=float)\n",
    "print(x)\n",
    "print(x.nbytes)\n"
   ],
   "metadata": {
    "collapsed": false,
    "pycharm": {
     "name": "#%%\n"
    }
   }
  },
  {
   "cell_type": "code",
   "execution_count": 26,
   "outputs": [
    {
     "name": "stdout",
     "output_type": "stream",
     "text": [
      "[[1.+0.j 2.+0.j 3.+0.j]\n",
      " [4.+0.j 5.+0.j 6.+0.j]]\n",
      "96\n"
     ]
    }
   ],
   "source": [
    "\n",
    "x = np.array([[1, 2, 3], [4, 5, 6]], dtype=complex)\n",
    "print(x)\n",
    "print(x.nbytes)\n"
   ],
   "metadata": {
    "collapsed": false,
    "pycharm": {
     "name": "#%%\n"
    }
   }
  },
  {
   "cell_type": "code",
   "execution_count": 28,
   "outputs": [
    {
     "name": "stdout",
     "output_type": "stream",
     "text": [
      "[[1 2 3]\n",
      " [4 5 6]]\n",
      "24\n"
     ]
    }
   ],
   "source": [
    "\n",
    "x = np.array([[1, 2, 3], [4, 5, 6]], dtype=np.uint32)\n",
    "print(x)\n",
    "print(x.nbytes)"
   ],
   "metadata": {
    "collapsed": false,
    "pycharm": {
     "name": "#%%\n"
    }
   }
  },
  {
   "cell_type": "code",
   "execution_count": 29,
   "outputs": [
    {
     "name": "stdout",
     "output_type": "stream",
     "text": [
      "48 bytes\n"
     ]
    }
   ],
   "source": [
    "\n",
    "x = np.array([[1, 2, 3], [4, 5, 6]], dtype=np.int64)\n",
    "print(x.nbytes, \"bytes\")"
   ],
   "metadata": {
    "collapsed": false,
    "pycharm": {
     "name": "#%%\n"
    }
   }
  },
  {
   "cell_type": "code",
   "execution_count": 30,
   "outputs": [
    {
     "name": "stdout",
     "output_type": "stream",
     "text": [
      "24 bytes\n"
     ]
    }
   ],
   "source": [
    "\n",
    "x = np.array([[1, 2, 3], [4, 5, 6]], dtype=np.int32)\n",
    "print( x.nbytes, \"bytes\")"
   ],
   "metadata": {
    "collapsed": false,
    "pycharm": {
     "name": "#%%\n"
    }
   }
  },
  {
   "cell_type": "code",
   "execution_count": 33,
   "outputs": [
    {
     "data": {
      "text/plain": "array([[1., 2., 3.],\n       [4., 5., 6.]])"
     },
     "execution_count": 33,
     "metadata": {},
     "output_type": "execute_result"
    }
   ],
   "source": [
    "\n",
    "x_copy = np.array(x, dtype=float)\n",
    "x_copy"
   ],
   "metadata": {
    "collapsed": false,
    "pycharm": {
     "name": "#%%\n"
    }
   }
  },
  {
   "cell_type": "code",
   "execution_count": 35,
   "outputs": [
    {
     "data": {
      "text/plain": "array([[1, 2, 3],\n       [4, 5, 6]])"
     },
     "execution_count": 35,
     "metadata": {},
     "output_type": "execute_result"
    }
   ],
   "source": [
    "\n",
    "x_copy_int = x_copy.astype(int)\n",
    "x_copy_int"
   ],
   "metadata": {
    "collapsed": false,
    "pycharm": {
     "name": "#%%\n"
    }
   }
  },
  {
   "cell_type": "code",
   "execution_count": 36,
   "outputs": [
    {
     "data": {
      "text/plain": "array([[1., 2., 3.],\n       [4., 5., 6.]])"
     },
     "execution_count": 36,
     "metadata": {},
     "output_type": "execute_result"
    }
   ],
   "source": [
    "\n",
    "x_copy\n"
   ],
   "metadata": {
    "collapsed": false,
    "pycharm": {
     "name": "#%%\n"
    }
   }
  },
  {
   "cell_type": "markdown",
   "source": [
    "# Операции с массивами"
   ],
   "metadata": {
    "collapsed": false,
    "pycharm": {
     "name": "#%% md\n"
    }
   }
  },
  {
   "cell_type": "code",
   "execution_count": 37,
   "outputs": [
    {
     "data": {
      "text/plain": "numpy.ndarray"
     },
     "execution_count": 37,
     "metadata": {},
     "output_type": "execute_result"
    }
   ],
   "source": [
    "my_list = [2, 14, 6, 8]\n",
    "my_array = np.asarray(my_list)\n",
    "type(my_array)"
   ],
   "metadata": {
    "collapsed": false,
    "pycharm": {
     "name": "#%%\n"
    }
   }
  },
  {
   "cell_type": "code",
   "execution_count": 39,
   "outputs": [],
   "source": [],
   "metadata": {
    "collapsed": false,
    "pycharm": {
     "name": "#%%\n"
    }
   }
  },
  {
   "cell_type": "code",
   "execution_count": 38,
   "outputs": [
    {
     "data": {
      "text/plain": "array([ 2, 14,  6,  8])"
     },
     "execution_count": 38,
     "metadata": {},
     "output_type": "execute_result"
    }
   ],
   "source": [
    "my_array"
   ],
   "metadata": {
    "collapsed": false,
    "pycharm": {
     "name": "#%%\n"
    }
   }
  },
  {
   "cell_type": "code",
   "execution_count": 41,
   "outputs": [
    {
     "data": {
      "text/plain": "array([ 4, 16,  8, 10])"
     },
     "execution_count": 41,
     "metadata": {},
     "output_type": "execute_result"
    }
   ],
   "source": [
    "\n",
    "my_array + 2\n"
   ],
   "metadata": {
    "collapsed": false,
    "pycharm": {
     "name": "#%%\n"
    }
   }
  },
  {
   "cell_type": "code",
   "execution_count": 42,
   "outputs": [
    {
     "data": {
      "text/plain": "array([ 1, 13,  5,  7])"
     },
     "execution_count": 42,
     "metadata": {},
     "output_type": "execute_result"
    }
   ],
   "source": [
    "\n",
    "my_array - 1"
   ],
   "metadata": {
    "collapsed": false,
    "pycharm": {
     "name": "#%%\n"
    }
   }
  },
  {
   "cell_type": "code",
   "execution_count": 43,
   "outputs": [
    {
     "data": {
      "text/plain": "array([ 4, 28, 12, 16])"
     },
     "execution_count": 43,
     "metadata": {},
     "output_type": "execute_result"
    }
   ],
   "source": [
    "\n",
    "my_array * 2"
   ],
   "metadata": {
    "collapsed": false,
    "pycharm": {
     "name": "#%%\n"
    }
   }
  },
  {
   "cell_type": "code",
   "execution_count": 44,
   "outputs": [
    {
     "data": {
      "text/plain": "array([1., 7., 3., 4.])"
     },
     "execution_count": 44,
     "metadata": {},
     "output_type": "execute_result"
    }
   ],
   "source": [
    "\n",
    "my_array / 2"
   ],
   "metadata": {
    "collapsed": false,
    "pycharm": {
     "name": "#%%\n"
    }
   }
  },
  {
   "cell_type": "code",
   "execution_count": 46,
   "outputs": [
    {
     "data": {
      "text/plain": "array([3., 3., 3., 3.])"
     },
     "execution_count": 46,
     "metadata": {},
     "output_type": "execute_result"
    }
   ],
   "source": [
    "\n",
    "second_array = np.zeros(4) + 3\n",
    "second_array"
   ],
   "metadata": {
    "collapsed": false,
    "pycharm": {
     "name": "#%%\n"
    }
   }
  },
  {
   "cell_type": "code",
   "execution_count": 48,
   "outputs": [
    {
     "data": {
      "text/plain": "array([ 2, 14,  6,  8])"
     },
     "execution_count": 48,
     "metadata": {},
     "output_type": "execute_result"
    }
   ],
   "source": [
    "my_array\n"
   ],
   "metadata": {
    "collapsed": false,
    "pycharm": {
     "name": "#%%\n"
    }
   }
  },
  {
   "cell_type": "code",
   "execution_count": 47,
   "outputs": [
    {
     "data": {
      "text/plain": "array([-1., 11.,  3.,  5.])"
     },
     "execution_count": 47,
     "metadata": {},
     "output_type": "execute_result"
    }
   ],
   "source": [
    "my_array - second_array\n"
   ],
   "metadata": {
    "collapsed": false,
    "pycharm": {
     "name": "#%%\n"
    }
   }
  },
  {
   "cell_type": "code",
   "execution_count": null,
   "outputs": [],
   "source": [
    "\n",
    "second_array / my_array"
   ],
   "metadata": {
    "collapsed": false,
    "pycharm": {
     "name": "#%%\n"
    }
   }
  },
  {
   "cell_type": "code",
   "execution_count": 52,
   "outputs": [
    {
     "data": {
      "text/plain": "array([4., 4., 4., 4.])"
     },
     "execution_count": 52,
     "metadata": {},
     "output_type": "execute_result"
    }
   ],
   "source": [
    "\n",
    "second_array = np.ones(4) + 3\n",
    "second_array"
   ],
   "metadata": {
    "collapsed": false,
    "pycharm": {
     "name": "#%%\n"
    }
   }
  },
  {
   "cell_type": "code",
   "execution_count": 52,
   "outputs": [],
   "source": [],
   "metadata": {
    "collapsed": false,
    "pycharm": {
     "name": "#%%\n"
    }
   }
  },
  {
   "cell_type": "code",
   "execution_count": 53,
   "outputs": [
    {
     "data": {
      "text/plain": "array([-2., 10.,  2.,  4.])"
     },
     "execution_count": 53,
     "metadata": {},
     "output_type": "execute_result"
    }
   ],
   "source": [
    "\n",
    "my_array - second_array\n"
   ],
   "metadata": {
    "collapsed": false,
    "pycharm": {
     "name": "#%%\n"
    }
   }
  },
  {
   "cell_type": "code",
   "execution_count": 54,
   "outputs": [
    {
     "data": {
      "text/plain": "array([2.        , 0.28571429, 0.66666667, 0.5       ])"
     },
     "execution_count": 54,
     "metadata": {},
     "output_type": "execute_result"
    }
   ],
   "source": [
    "\n",
    "second_array / my_array"
   ],
   "metadata": {
    "collapsed": false,
    "pycharm": {
     "name": "#%%\n"
    }
   }
  },
  {
   "cell_type": "code",
   "execution_count": 55,
   "outputs": [
    {
     "data": {
      "text/plain": "array([[1., 0., 0., 0.],\n       [0., 1., 0., 0.],\n       [0., 0., 1., 0.],\n       [0., 0., 0., 1.]])"
     },
     "execution_count": 55,
     "metadata": {},
     "output_type": "execute_result"
    }
   ],
   "source": [
    "\n",
    "second_array = np.identity(4)\n",
    "second_array"
   ],
   "metadata": {
    "collapsed": false,
    "pycharm": {
     "name": "#%%\n"
    }
   }
  },
  {
   "cell_type": "code",
   "execution_count": 56,
   "outputs": [
    {
     "data": {
      "text/plain": "array([[4., 3., 3., 3.],\n       [3., 4., 3., 3.],\n       [3., 3., 4., 3.],\n       [3., 3., 3., 4.]])"
     },
     "execution_count": 56,
     "metadata": {},
     "output_type": "execute_result"
    }
   ],
   "source": [
    "\n",
    "second_array = np.identity(4) + 3\n",
    "second_array"
   ],
   "metadata": {
    "collapsed": false,
    "pycharm": {
     "name": "#%%\n"
    }
   }
  },
  {
   "cell_type": "code",
   "execution_count": 58,
   "outputs": [
    {
     "data": {
      "text/plain": "array([ 2, 14,  6,  8])"
     },
     "execution_count": 58,
     "metadata": {},
     "output_type": "execute_result"
    }
   ],
   "source": [
    "my_array"
   ],
   "metadata": {
    "collapsed": false,
    "pycharm": {
     "name": "#%%\n"
    }
   }
  },
  {
   "cell_type": "code",
   "execution_count": 59,
   "outputs": [
    {
     "data": {
      "text/plain": "array([[-2., 11.,  3.,  5.],\n       [-1., 10.,  3.,  5.],\n       [-1., 11.,  2.,  5.],\n       [-1., 11.,  3.,  4.]])"
     },
     "execution_count": 59,
     "metadata": {},
     "output_type": "execute_result"
    }
   ],
   "source": [
    "\n",
    "my_array - second_array"
   ],
   "metadata": {
    "collapsed": false,
    "pycharm": {
     "name": "#%%\n"
    }
   }
  },
  {
   "cell_type": "code",
   "execution_count": 60,
   "outputs": [
    {
     "data": {
      "text/plain": "array([[2.        , 0.21428571, 0.5       , 0.375     ],\n       [1.5       , 0.28571429, 0.5       , 0.375     ],\n       [1.5       , 0.21428571, 0.66666667, 0.375     ],\n       [1.5       , 0.21428571, 0.5       , 0.5       ]])"
     },
     "execution_count": 60,
     "metadata": {},
     "output_type": "execute_result"
    }
   ],
   "source": [
    "\n",
    "second_array / my_array"
   ],
   "metadata": {
    "collapsed": false,
    "pycharm": {
     "name": "#%%\n"
    }
   }
  },
  {
   "cell_type": "code",
   "execution_count": 61,
   "outputs": [
    {
     "data": {
      "text/plain": "array([3. , 3.5, 4. , 4.5, 5. , 5.5, 6. , 6.5])"
     },
     "execution_count": 61,
     "metadata": {},
     "output_type": "execute_result"
    }
   ],
   "source": [
    "\n",
    "x = np.arange(3, 7, 0.5)\n",
    "x"
   ],
   "metadata": {
    "collapsed": false,
    "pycharm": {
     "name": "#%%\n"
    }
   }
  },
  {
   "cell_type": "code",
   "execution_count": 64,
   "outputs": [
    {
     "data": {
      "text/plain": "array([ 1.2       ,  1.23933934,  1.27867868,  1.31801802,  1.35735736,\n        1.3966967 ,  1.43603604,  1.47537538,  1.51471471,  1.55405405,\n        1.59339339,  1.63273273,  1.67207207,  1.71141141,  1.75075075,\n        1.79009009,  1.82942943,  1.86876877,  1.90810811,  1.94744745,\n        1.98678679,  2.02612613,  2.06546547,  2.1048048 ,  2.14414414,\n        2.18348348,  2.22282282,  2.26216216,  2.3015015 ,  2.34084084,\n        2.38018018,  2.41951952,  2.45885886,  2.4981982 ,  2.53753754,\n        2.57687688,  2.61621622,  2.65555556,  2.69489489,  2.73423423,\n        2.77357357,  2.81291291,  2.85225225,  2.89159159,  2.93093093,\n        2.97027027,  3.00960961,  3.04894895,  3.08828829,  3.12762763,\n        3.16696697,  3.20630631,  3.24564565,  3.28498498,  3.32432432,\n        3.36366366,  3.403003  ,  3.44234234,  3.48168168,  3.52102102,\n        3.56036036,  3.5996997 ,  3.63903904,  3.67837838,  3.71771772,\n        3.75705706,  3.7963964 ,  3.83573574,  3.87507508,  3.91441441,\n        3.95375375,  3.99309309,  4.03243243,  4.07177177,  4.11111111,\n        4.15045045,  4.18978979,  4.22912913,  4.26846847,  4.30780781,\n        4.34714715,  4.38648649,  4.42582583,  4.46516517,  4.5045045 ,\n        4.54384384,  4.58318318,  4.62252252,  4.66186186,  4.7012012 ,\n        4.74054054,  4.77987988,  4.81921922,  4.85855856,  4.8978979 ,\n        4.93723724,  4.97657658,  5.01591592,  5.05525526,  5.09459459,\n        5.13393393,  5.17327327,  5.21261261,  5.25195195,  5.29129129,\n        5.33063063,  5.36996997,  5.40930931,  5.44864865,  5.48798799,\n        5.52732733,  5.56666667,  5.60600601,  5.64534535,  5.68468468,\n        5.72402402,  5.76336336,  5.8027027 ,  5.84204204,  5.88138138,\n        5.92072072,  5.96006006,  5.9993994 ,  6.03873874,  6.07807808,\n        6.11741742,  6.15675676,  6.1960961 ,  6.23543544,  6.27477477,\n        6.31411411,  6.35345345,  6.39279279,  6.43213213,  6.47147147,\n        6.51081081,  6.55015015,  6.58948949,  6.62882883,  6.66816817,\n        6.70750751,  6.74684685,  6.78618619,  6.82552553,  6.86486486,\n        6.9042042 ,  6.94354354,  6.98288288,  7.02222222,  7.06156156,\n        7.1009009 ,  7.14024024,  7.17957958,  7.21891892,  7.25825826,\n        7.2975976 ,  7.33693694,  7.37627628,  7.41561562,  7.45495495,\n        7.49429429,  7.53363363,  7.57297297,  7.61231231,  7.65165165,\n        7.69099099,  7.73033033,  7.76966967,  7.80900901,  7.84834835,\n        7.88768769,  7.92702703,  7.96636637,  8.00570571,  8.04504505,\n        8.08438438,  8.12372372,  8.16306306,  8.2024024 ,  8.24174174,\n        8.28108108,  8.32042042,  8.35975976,  8.3990991 ,  8.43843844,\n        8.47777778,  8.51711712,  8.55645646,  8.5957958 ,  8.63513514,\n        8.67447447,  8.71381381,  8.75315315,  8.79249249,  8.83183183,\n        8.87117117,  8.91051051,  8.94984985,  8.98918919,  9.02852853,\n        9.06786787,  9.10720721,  9.14654655,  9.18588589,  9.22522523,\n        9.26456456,  9.3039039 ,  9.34324324,  9.38258258,  9.42192192,\n        9.46126126,  9.5006006 ,  9.53993994,  9.57927928,  9.61861862,\n        9.65795796,  9.6972973 ,  9.73663664,  9.77597598,  9.81531532,\n        9.85465465,  9.89399399,  9.93333333,  9.97267267, 10.01201201,\n       10.05135135, 10.09069069, 10.13003003, 10.16936937, 10.20870871,\n       10.24804805, 10.28738739, 10.32672673, 10.36606607, 10.40540541,\n       10.44474474, 10.48408408, 10.52342342, 10.56276276, 10.6021021 ,\n       10.64144144, 10.68078078, 10.72012012, 10.75945946, 10.7987988 ,\n       10.83813814, 10.87747748, 10.91681682, 10.95615616, 10.9954955 ,\n       11.03483483, 11.07417417, 11.11351351, 11.15285285, 11.19219219,\n       11.23153153, 11.27087087, 11.31021021, 11.34954955, 11.38888889,\n       11.42822823, 11.46756757, 11.50690691, 11.54624625, 11.58558559,\n       11.62492492, 11.66426426, 11.7036036 , 11.74294294, 11.78228228,\n       11.82162162, 11.86096096, 11.9003003 , 11.93963964, 11.97897898,\n       12.01831832, 12.05765766, 12.096997  , 12.13633634, 12.17567568,\n       12.21501502, 12.25435435, 12.29369369, 12.33303303, 12.37237237,\n       12.41171171, 12.45105105, 12.49039039, 12.52972973, 12.56906907,\n       12.60840841, 12.64774775, 12.68708709, 12.72642643, 12.76576577,\n       12.80510511, 12.84444444, 12.88378378, 12.92312312, 12.96246246,\n       13.0018018 , 13.04114114, 13.08048048, 13.11981982, 13.15915916,\n       13.1984985 , 13.23783784, 13.27717718, 13.31651652, 13.35585586,\n       13.3951952 , 13.43453453, 13.47387387, 13.51321321, 13.55255255,\n       13.59189189, 13.63123123, 13.67057057, 13.70990991, 13.74924925,\n       13.78858859, 13.82792793, 13.86726727, 13.90660661, 13.94594595,\n       13.98528529, 14.02462462, 14.06396396, 14.1033033 , 14.14264264,\n       14.18198198, 14.22132132, 14.26066066, 14.3       , 14.33933934,\n       14.37867868, 14.41801802, 14.45735736, 14.4966967 , 14.53603604,\n       14.57537538, 14.61471471, 14.65405405, 14.69339339, 14.73273273,\n       14.77207207, 14.81141141, 14.85075075, 14.89009009, 14.92942943,\n       14.96876877, 15.00810811, 15.04744745, 15.08678679, 15.12612613,\n       15.16546547, 15.2048048 , 15.24414414, 15.28348348, 15.32282282,\n       15.36216216, 15.4015015 , 15.44084084, 15.48018018, 15.51951952,\n       15.55885886, 15.5981982 , 15.63753754, 15.67687688, 15.71621622,\n       15.75555556, 15.79489489, 15.83423423, 15.87357357, 15.91291291,\n       15.95225225, 15.99159159, 16.03093093, 16.07027027, 16.10960961,\n       16.14894895, 16.18828829, 16.22762763, 16.26696697, 16.30630631,\n       16.34564565, 16.38498498, 16.42432432, 16.46366366, 16.503003  ,\n       16.54234234, 16.58168168, 16.62102102, 16.66036036, 16.6996997 ,\n       16.73903904, 16.77837838, 16.81771772, 16.85705706, 16.8963964 ,\n       16.93573574, 16.97507508, 17.01441441, 17.05375375, 17.09309309,\n       17.13243243, 17.17177177, 17.21111111, 17.25045045, 17.28978979,\n       17.32912913, 17.36846847, 17.40780781, 17.44714715, 17.48648649,\n       17.52582583, 17.56516517, 17.6045045 , 17.64384384, 17.68318318,\n       17.72252252, 17.76186186, 17.8012012 , 17.84054054, 17.87987988,\n       17.91921922, 17.95855856, 17.9978979 , 18.03723724, 18.07657658,\n       18.11591592, 18.15525526, 18.19459459, 18.23393393, 18.27327327,\n       18.31261261, 18.35195195, 18.39129129, 18.43063063, 18.46996997,\n       18.50930931, 18.54864865, 18.58798799, 18.62732733, 18.66666667,\n       18.70600601, 18.74534535, 18.78468468, 18.82402402, 18.86336336,\n       18.9027027 , 18.94204204, 18.98138138, 19.02072072, 19.06006006,\n       19.0993994 , 19.13873874, 19.17807808, 19.21741742, 19.25675676,\n       19.2960961 , 19.33543544, 19.37477477, 19.41411411, 19.45345345,\n       19.49279279, 19.53213213, 19.57147147, 19.61081081, 19.65015015,\n       19.68948949, 19.72882883, 19.76816817, 19.80750751, 19.84684685,\n       19.88618619, 19.92552553, 19.96486486, 20.0042042 , 20.04354354,\n       20.08288288, 20.12222222, 20.16156156, 20.2009009 , 20.24024024,\n       20.27957958, 20.31891892, 20.35825826, 20.3975976 , 20.43693694,\n       20.47627628, 20.51561562, 20.55495495, 20.59429429, 20.63363363,\n       20.67297297, 20.71231231, 20.75165165, 20.79099099, 20.83033033,\n       20.86966967, 20.90900901, 20.94834835, 20.98768769, 21.02702703,\n       21.06636637, 21.10570571, 21.14504505, 21.18438438, 21.22372372,\n       21.26306306, 21.3024024 , 21.34174174, 21.38108108, 21.42042042,\n       21.45975976, 21.4990991 , 21.53843844, 21.57777778, 21.61711712,\n       21.65645646, 21.6957958 , 21.73513514, 21.77447447, 21.81381381,\n       21.85315315, 21.89249249, 21.93183183, 21.97117117, 22.01051051,\n       22.04984985, 22.08918919, 22.12852853, 22.16786787, 22.20720721,\n       22.24654655, 22.28588589, 22.32522523, 22.36456456, 22.4039039 ,\n       22.44324324, 22.48258258, 22.52192192, 22.56126126, 22.6006006 ,\n       22.63993994, 22.67927928, 22.71861862, 22.75795796, 22.7972973 ,\n       22.83663664, 22.87597598, 22.91531532, 22.95465465, 22.99399399,\n       23.03333333, 23.07267267, 23.11201201, 23.15135135, 23.19069069,\n       23.23003003, 23.26936937, 23.30870871, 23.34804805, 23.38738739,\n       23.42672673, 23.46606607, 23.50540541, 23.54474474, 23.58408408,\n       23.62342342, 23.66276276, 23.7021021 , 23.74144144, 23.78078078,\n       23.82012012, 23.85945946, 23.8987988 , 23.93813814, 23.97747748,\n       24.01681682, 24.05615616, 24.0954955 , 24.13483483, 24.17417417,\n       24.21351351, 24.25285285, 24.29219219, 24.33153153, 24.37087087,\n       24.41021021, 24.44954955, 24.48888889, 24.52822823, 24.56756757,\n       24.60690691, 24.64624625, 24.68558559, 24.72492492, 24.76426426,\n       24.8036036 , 24.84294294, 24.88228228, 24.92162162, 24.96096096,\n       25.0003003 , 25.03963964, 25.07897898, 25.11831832, 25.15765766,\n       25.196997  , 25.23633634, 25.27567568, 25.31501502, 25.35435435,\n       25.39369369, 25.43303303, 25.47237237, 25.51171171, 25.55105105,\n       25.59039039, 25.62972973, 25.66906907, 25.70840841, 25.74774775,\n       25.78708709, 25.82642643, 25.86576577, 25.90510511, 25.94444444,\n       25.98378378, 26.02312312, 26.06246246, 26.1018018 , 26.14114114,\n       26.18048048, 26.21981982, 26.25915916, 26.2984985 , 26.33783784,\n       26.37717718, 26.41651652, 26.45585586, 26.4951952 , 26.53453453,\n       26.57387387, 26.61321321, 26.65255255, 26.69189189, 26.73123123,\n       26.77057057, 26.80990991, 26.84924925, 26.88858859, 26.92792793,\n       26.96726727, 27.00660661, 27.04594595, 27.08528529, 27.12462462,\n       27.16396396, 27.2033033 , 27.24264264, 27.28198198, 27.32132132,\n       27.36066066, 27.4       , 27.43933934, 27.47867868, 27.51801802,\n       27.55735736, 27.5966967 , 27.63603604, 27.67537538, 27.71471471,\n       27.75405405, 27.79339339, 27.83273273, 27.87207207, 27.91141141,\n       27.95075075, 27.99009009, 28.02942943, 28.06876877, 28.10810811,\n       28.14744745, 28.18678679, 28.22612613, 28.26546547, 28.3048048 ,\n       28.34414414, 28.38348348, 28.42282282, 28.46216216, 28.5015015 ,\n       28.54084084, 28.58018018, 28.61951952, 28.65885886, 28.6981982 ,\n       28.73753754, 28.77687688, 28.81621622, 28.85555556, 28.89489489,\n       28.93423423, 28.97357357, 29.01291291, 29.05225225, 29.09159159,\n       29.13093093, 29.17027027, 29.20960961, 29.24894895, 29.28828829,\n       29.32762763, 29.36696697, 29.40630631, 29.44564565, 29.48498498,\n       29.52432432, 29.56366366, 29.603003  , 29.64234234, 29.68168168,\n       29.72102102, 29.76036036, 29.7996997 , 29.83903904, 29.87837838,\n       29.91771772, 29.95705706, 29.9963964 , 30.03573574, 30.07507508,\n       30.11441441, 30.15375375, 30.19309309, 30.23243243, 30.27177177,\n       30.31111111, 30.35045045, 30.38978979, 30.42912913, 30.46846847,\n       30.50780781, 30.54714715, 30.58648649, 30.62582583, 30.66516517,\n       30.7045045 , 30.74384384, 30.78318318, 30.82252252, 30.86186186,\n       30.9012012 , 30.94054054, 30.97987988, 31.01921922, 31.05855856,\n       31.0978979 , 31.13723724, 31.17657658, 31.21591592, 31.25525526,\n       31.29459459, 31.33393393, 31.37327327, 31.41261261, 31.45195195,\n       31.49129129, 31.53063063, 31.56996997, 31.60930931, 31.64864865,\n       31.68798799, 31.72732733, 31.76666667, 31.80600601, 31.84534535,\n       31.88468468, 31.92402402, 31.96336336, 32.0027027 , 32.04204204,\n       32.08138138, 32.12072072, 32.16006006, 32.1993994 , 32.23873874,\n       32.27807808, 32.31741742, 32.35675676, 32.3960961 , 32.43543544,\n       32.47477477, 32.51411411, 32.55345345, 32.59279279, 32.63213213,\n       32.67147147, 32.71081081, 32.75015015, 32.78948949, 32.82882883,\n       32.86816817, 32.90750751, 32.94684685, 32.98618619, 33.02552553,\n       33.06486486, 33.1042042 , 33.14354354, 33.18288288, 33.22222222,\n       33.26156156, 33.3009009 , 33.34024024, 33.37957958, 33.41891892,\n       33.45825826, 33.4975976 , 33.53693694, 33.57627628, 33.61561562,\n       33.65495495, 33.69429429, 33.73363363, 33.77297297, 33.81231231,\n       33.85165165, 33.89099099, 33.93033033, 33.96966967, 34.00900901,\n       34.04834835, 34.08768769, 34.12702703, 34.16636637, 34.20570571,\n       34.24504505, 34.28438438, 34.32372372, 34.36306306, 34.4024024 ,\n       34.44174174, 34.48108108, 34.52042042, 34.55975976, 34.5990991 ,\n       34.63843844, 34.67777778, 34.71711712, 34.75645646, 34.7957958 ,\n       34.83513514, 34.87447447, 34.91381381, 34.95315315, 34.99249249,\n       35.03183183, 35.07117117, 35.11051051, 35.14984985, 35.18918919,\n       35.22852853, 35.26786787, 35.30720721, 35.34654655, 35.38588589,\n       35.42522523, 35.46456456, 35.5039039 , 35.54324324, 35.58258258,\n       35.62192192, 35.66126126, 35.7006006 , 35.73993994, 35.77927928,\n       35.81861862, 35.85795796, 35.8972973 , 35.93663664, 35.97597598,\n       36.01531532, 36.05465465, 36.09399399, 36.13333333, 36.17267267,\n       36.21201201, 36.25135135, 36.29069069, 36.33003003, 36.36936937,\n       36.40870871, 36.44804805, 36.48738739, 36.52672673, 36.56606607,\n       36.60540541, 36.64474474, 36.68408408, 36.72342342, 36.76276276,\n       36.8021021 , 36.84144144, 36.88078078, 36.92012012, 36.95945946,\n       36.9987988 , 37.03813814, 37.07747748, 37.11681682, 37.15615616,\n       37.1954955 , 37.23483483, 37.27417417, 37.31351351, 37.35285285,\n       37.39219219, 37.43153153, 37.47087087, 37.51021021, 37.54954955,\n       37.58888889, 37.62822823, 37.66756757, 37.70690691, 37.74624625,\n       37.78558559, 37.82492492, 37.86426426, 37.9036036 , 37.94294294,\n       37.98228228, 38.02162162, 38.06096096, 38.1003003 , 38.13963964,\n       38.17897898, 38.21831832, 38.25765766, 38.296997  , 38.33633634,\n       38.37567568, 38.41501502, 38.45435435, 38.49369369, 38.53303303,\n       38.57237237, 38.61171171, 38.65105105, 38.69039039, 38.72972973,\n       38.76906907, 38.80840841, 38.84774775, 38.88708709, 38.92642643,\n       38.96576577, 39.00510511, 39.04444444, 39.08378378, 39.12312312,\n       39.16246246, 39.2018018 , 39.24114114, 39.28048048, 39.31981982,\n       39.35915916, 39.3984985 , 39.43783784, 39.47717718, 39.51651652,\n       39.55585586, 39.5951952 , 39.63453453, 39.67387387, 39.71321321,\n       39.75255255, 39.79189189, 39.83123123, 39.87057057, 39.90990991,\n       39.94924925, 39.98858859, 40.02792793, 40.06726727, 40.10660661,\n       40.14594595, 40.18528529, 40.22462462, 40.26396396, 40.3033033 ,\n       40.34264264, 40.38198198, 40.42132132, 40.46066066, 40.5       ])"
     },
     "execution_count": 64,
     "metadata": {},
     "output_type": "execute_result"
    }
   ],
   "source": [
    "\n",
    "x = np.linspace(1.2, 40.5, num=1000)\n",
    "x"
   ],
   "metadata": {
    "collapsed": false,
    "pycharm": {
     "name": "#%%\n"
    }
   }
  },
  {
   "cell_type": "code",
   "execution_count": 65,
   "outputs": [
    {
     "data": {
      "text/plain": "array([  1.,   5.,  25., 125., 625.])"
     },
     "execution_count": 65,
     "metadata": {},
     "output_type": "execute_result"
    }
   ],
   "source": [
    "\n",
    "np.geomspace(1, 625, num=5)\n",
    "\n"
   ],
   "metadata": {
    "collapsed": false,
    "pycharm": {
     "name": "#%%\n"
    }
   }
  },
  {
   "cell_type": "code",
   "execution_count": 67,
   "outputs": [
    {
     "data": {
      "text/plain": "array([ 1000.        ,  1023.5310219 ,  1047.61575279,  1072.26722201,\n        1097.49876549,  1123.32403298,  1149.7569954 ,  1176.81195243,\n        1204.50354026,  1232.84673944,  1261.85688307,  1291.54966501,\n        1321.94114847,  1353.04777458,  1384.88637139,  1417.47416293,\n        1450.8287785 ,  1484.96826225,  1519.91108295,  1555.67614393,\n        1592.28279334,  1629.75083462,  1668.1005372 ,  1707.35264747,\n        1747.52840001,  1788.64952906,  1830.7382803 ,  1873.81742286,\n        1917.91026167,  1963.04065004,  2009.23300257,  2056.51230835,\n        2104.90414451,  2154.43469003,  2205.1307399 ,  2257.01971963,\n        2310.12970008,  2364.48941265,  2420.12826479,  2477.07635599,\n        2535.36449397,  2595.0242114 ,  2656.08778295,  2718.58824273,\n        2782.55940221,  2848.03586844,  2915.05306283,  2983.64724028,\n        3053.85550883,  3125.71584969,  3199.2671378 ,  3274.54916288,\n        3351.60265094,  3430.46928631,  3511.19173422,  3593.8136638 ,\n        3678.37977183,  3764.93580679,  3853.52859371,  3944.20605944,\n        4037.0172586 ,  4132.01240012,  4229.24287439,  4328.76128108,\n        4430.62145758,  4534.87850813,  4641.58883361,  4750.8101621 ,\n        4862.60158007,  4977.02356433,  5094.13801482,  5214.008288  ,\n        5336.69923121,  5462.27721768,  5590.81018251,  5722.36765935,\n        5857.02081806,  5994.84250319,  6135.90727341,  6280.29144183,\n        6428.07311728,  6579.33224658,  6734.15065775,  6892.61210435,\n        7054.80231072,  7220.80901839,  7390.72203353,  7564.63327555,\n        7742.63682681,  7924.82898354,  8111.3083079 ,  8302.17568132,\n        8497.53435909,  8697.49002618,  8902.15085445,  9111.62756115,\n        9326.03346883,  9545.48456662,  9770.09957299, 10000.        ])"
     },
     "execution_count": 67,
     "metadata": {},
     "output_type": "execute_result"
    }
   ],
   "source": [
    "\n",
    "np.logspace(3, 4, num=100)\n"
   ],
   "metadata": {
    "collapsed": false,
    "pycharm": {
     "name": "#%%\n"
    }
   }
  },
  {
   "cell_type": "code",
   "execution_count": 68,
   "outputs": [
    {
     "data": {
      "text/plain": "array([3.        , 3.2237098 , 3.46410162, 3.72241944, 4.        ])"
     },
     "execution_count": 68,
     "metadata": {},
     "output_type": "execute_result"
    }
   ],
   "source": [
    "\n",
    "np.logspace(np.log10(3), np.log10(4), num=5)"
   ],
   "metadata": {
    "collapsed": false,
    "pycharm": {
     "name": "#%%\n"
    }
   }
  },
  {
   "cell_type": "code",
   "execution_count": 69,
   "outputs": [],
   "source": [
    "\n",
    "x = np.array([1, 2, 3, 4])\n",
    "y = np.array([1, 3, 4, 4])"
   ],
   "metadata": {
    "collapsed": false,
    "pycharm": {
     "name": "#%%\n"
    }
   }
  },
  {
   "cell_type": "code",
   "execution_count": 70,
   "outputs": [
    {
     "data": {
      "text/plain": "array([ True, False, False,  True])"
     },
     "execution_count": 70,
     "metadata": {},
     "output_type": "execute_result"
    }
   ],
   "source": [
    "\n",
    "x == y\n"
   ],
   "metadata": {
    "collapsed": false,
    "pycharm": {
     "name": "#%%\n"
    }
   }
  },
  {
   "cell_type": "code",
   "execution_count": 72,
   "outputs": [
    {
     "data": {
      "text/plain": "True"
     },
     "execution_count": 72,
     "metadata": {},
     "output_type": "execute_result"
    }
   ],
   "source": [
    "\n",
    "x = np.array([1, 2, 3, 4])\n",
    "y = np.array([1, 2, 3, 4])\n",
    "np.array_equal(x, y)"
   ],
   "metadata": {
    "collapsed": false,
    "pycharm": {
     "name": "#%%\n"
    }
   }
  },
  {
   "cell_type": "code",
   "execution_count": 73,
   "outputs": [
    {
     "data": {
      "text/plain": "array([False,  True,  True, False])"
     },
     "execution_count": 73,
     "metadata": {},
     "output_type": "execute_result"
    }
   ],
   "source": [
    "\n",
    "x = np.array([1, 2, 3, 4])\n",
    "y = np.array([1, 3, 4, 4])\n",
    "x < y"
   ],
   "metadata": {
    "collapsed": false,
    "pycharm": {
     "name": "#%%\n"
    }
   }
  },
  {
   "cell_type": "code",
   "execution_count": 74,
   "outputs": [],
   "source": [
    "\n",
    "x = np.array([0, 1, 0, 0], dtype=bool)\n",
    "y = np.array([1, 1, 0, 1], dtype=bool)"
   ],
   "metadata": {
    "collapsed": false,
    "pycharm": {
     "name": "#%%\n"
    }
   }
  },
  {
   "cell_type": "code",
   "execution_count": 75,
   "outputs": [
    {
     "data": {
      "text/plain": "array([False,  True, False, False])"
     },
     "execution_count": 75,
     "metadata": {},
     "output_type": "execute_result"
    }
   ],
   "source": [
    "x"
   ],
   "metadata": {
    "collapsed": false,
    "pycharm": {
     "name": "#%%\n"
    }
   }
  },
  {
   "cell_type": "code",
   "execution_count": 76,
   "outputs": [
    {
     "data": {
      "text/plain": "array([ True,  True, False,  True])"
     },
     "execution_count": 76,
     "metadata": {},
     "output_type": "execute_result"
    }
   ],
   "source": [
    "\n",
    "np.logical_or(x, y)"
   ],
   "metadata": {
    "collapsed": false,
    "pycharm": {
     "name": "#%%\n"
    }
   }
  },
  {
   "cell_type": "code",
   "execution_count": 78,
   "outputs": [
    {
     "data": {
      "text/plain": "array([False,  True, False, False])"
     },
     "execution_count": 78,
     "metadata": {},
     "output_type": "execute_result"
    }
   ],
   "source": [
    "\n",
    "np.logical_and(x, y)"
   ],
   "metadata": {
    "collapsed": false,
    "pycharm": {
     "name": "#%%\n"
    }
   }
  },
  {
   "cell_type": "code",
   "execution_count": 79,
   "outputs": [
    {
     "data": {
      "text/plain": "array([ True, False,  True,  True])"
     },
     "execution_count": 79,
     "metadata": {},
     "output_type": "execute_result"
    }
   ],
   "source": [
    "\n",
    "x = np.array([12, 16, 57, 11])\n",
    "np.logical_or(x < 13, x > 50)"
   ],
   "metadata": {
    "collapsed": false,
    "pycharm": {
     "name": "#%%\n"
    }
   }
  },
  {
   "cell_type": "code",
   "execution_count": 80,
   "outputs": [
    {
     "data": {
      "text/plain": "array([ 2.71828183,  7.3890561 , 20.08553692, 54.59815003])"
     },
     "execution_count": 80,
     "metadata": {},
     "output_type": "execute_result"
    }
   ],
   "source": [
    "\n",
    "x = np.array([1, 2, 3, 4])\n",
    "np.exp(x)"
   ],
   "metadata": {
    "collapsed": false,
    "pycharm": {
     "name": "#%%\n"
    }
   }
  },
  {
   "cell_type": "code",
   "execution_count": 81,
   "outputs": [
    {
     "data": {
      "text/plain": "array([0.        , 0.69314718, 1.09861229, 1.38629436])"
     },
     "execution_count": 81,
     "metadata": {},
     "output_type": "execute_result"
    }
   ],
   "source": [
    "\n",
    "np.log(x)"
   ],
   "metadata": {
    "collapsed": false,
    "pycharm": {
     "name": "#%%\n"
    }
   }
  },
  {
   "cell_type": "code",
   "execution_count": 82,
   "outputs": [
    {
     "data": {
      "text/plain": "array([ 0.84147098,  0.90929743,  0.14112001, -0.7568025 ])"
     },
     "execution_count": 82,
     "metadata": {},
     "output_type": "execute_result"
    }
   ],
   "source": [
    "\n",
    "np.sin(x)"
   ],
   "metadata": {
    "collapsed": false,
    "pycharm": {
     "name": "#%%\n"
    }
   }
  },
  {
   "cell_type": "code",
   "execution_count": 83,
   "outputs": [
    {
     "data": {
      "text/plain": "array([0, 1, 2, 3, 4, 5, 6, 7, 8])"
     },
     "execution_count": 83,
     "metadata": {},
     "output_type": "execute_result"
    }
   ],
   "source": [
    "\n",
    "x = np.arange(9)\n",
    "x"
   ],
   "metadata": {
    "collapsed": false,
    "pycharm": {
     "name": "#%%\n"
    }
   }
  },
  {
   "cell_type": "code",
   "execution_count": 85,
   "outputs": [
    {
     "data": {
      "text/plain": "array([[0, 1, 2],\n       [3, 4, 5],\n       [6, 7, 8]])"
     },
     "execution_count": 85,
     "metadata": {},
     "output_type": "execute_result"
    }
   ],
   "source": [
    "\n",
    "x = np.arange(9).reshape((3, 3))\n",
    "x"
   ],
   "metadata": {
    "collapsed": false,
    "pycharm": {
     "name": "#%%\n"
    }
   }
  },
  {
   "cell_type": "code",
   "execution_count": 86,
   "outputs": [
    {
     "data": {
      "text/plain": "array([[0, 3, 6],\n       [1, 4, 7],\n       [2, 5, 8]])"
     },
     "execution_count": 86,
     "metadata": {},
     "output_type": "execute_result"
    }
   ],
   "source": [
    "\n",
    "x.T\n"
   ],
   "metadata": {
    "collapsed": false,
    "pycharm": {
     "name": "#%%\n"
    }
   }
  },
  {
   "cell_type": "code",
   "execution_count": 93,
   "outputs": [],
   "source": [
    "x = np.arange(6).reshape(2, 3)"
   ],
   "metadata": {
    "collapsed": false,
    "pycharm": {
     "name": "#%%\n"
    }
   }
  },
  {
   "cell_type": "code",
   "execution_count": 94,
   "outputs": [
    {
     "data": {
      "text/plain": "array([[0, 1, 2],\n       [3, 4, 5],\n       [6, 7, 8]])"
     },
     "execution_count": 94,
     "metadata": {},
     "output_type": "execute_result"
    }
   ],
   "source": [
    "\n",
    "x.T\n",
    "x = np.arange(9).reshape((3, 3))\n",
    "x"
   ],
   "metadata": {
    "collapsed": false,
    "pycharm": {
     "name": "#%%\n"
    }
   }
  },
  {
   "cell_type": "code",
   "execution_count": 95,
   "outputs": [
    {
     "data": {
      "text/plain": "36"
     },
     "execution_count": 95,
     "metadata": {},
     "output_type": "execute_result"
    }
   ],
   "source": [
    "\n",
    "np.sum(x)"
   ],
   "metadata": {
    "collapsed": false,
    "pycharm": {
     "name": "#%%\n"
    }
   }
  },
  {
   "cell_type": "code",
   "execution_count": 96,
   "outputs": [
    {
     "data": {
      "text/plain": "0"
     },
     "execution_count": 96,
     "metadata": {},
     "output_type": "execute_result"
    }
   ],
   "source": [
    "\n",
    "np.amin(x)"
   ],
   "metadata": {
    "collapsed": false,
    "pycharm": {
     "name": "#%%\n"
    }
   }
  },
  {
   "cell_type": "code",
   "execution_count": 98,
   "outputs": [
    {
     "data": {
      "text/plain": "8"
     },
     "execution_count": 98,
     "metadata": {},
     "output_type": "execute_result"
    }
   ],
   "source": [
    "\n",
    "np.amax(x)"
   ],
   "metadata": {
    "collapsed": false,
    "pycharm": {
     "name": "#%%\n"
    }
   }
  },
  {
   "cell_type": "code",
   "execution_count": 99,
   "outputs": [
    {
     "data": {
      "text/plain": "array([0, 1, 2])"
     },
     "execution_count": 99,
     "metadata": {},
     "output_type": "execute_result"
    }
   ],
   "source": [
    "\n",
    "np.amin(x, axis=0)"
   ],
   "metadata": {
    "collapsed": false,
    "pycharm": {
     "name": "#%%\n"
    }
   }
  },
  {
   "cell_type": "code",
   "execution_count": 100,
   "outputs": [
    {
     "data": {
      "text/plain": "array([0, 3, 6])"
     },
     "execution_count": 100,
     "metadata": {},
     "output_type": "execute_result"
    }
   ],
   "source": [
    "\n",
    "np.amin(x, axis=1)"
   ],
   "metadata": {
    "collapsed": false,
    "pycharm": {
     "name": "#%%\n"
    }
   }
  },
  {
   "cell_type": "code",
   "execution_count": 105,
   "outputs": [
    {
     "data": {
      "text/plain": "7.92"
     },
     "execution_count": 105,
     "metadata": {},
     "output_type": "execute_result"
    }
   ],
   "source": [
    "\n",
    "np.percentile(x, 99)"
   ],
   "metadata": {
    "collapsed": false,
    "pycharm": {
     "name": "#%%\n"
    }
   }
  },
  {
   "cell_type": "code",
   "execution_count": 106,
   "outputs": [],
   "source": [
    "\n",
    "x = np.array([1, -21, 3, -3])"
   ],
   "metadata": {
    "collapsed": false,
    "pycharm": {
     "name": "#%%\n"
    }
   }
  },
  {
   "cell_type": "code",
   "execution_count": 107,
   "outputs": [
    {
     "data": {
      "text/plain": "2"
     },
     "execution_count": 107,
     "metadata": {},
     "output_type": "execute_result"
    }
   ],
   "source": [
    "\n",
    "np.argmax(x)"
   ],
   "metadata": {
    "collapsed": false,
    "pycharm": {
     "name": "#%%\n"
    }
   }
  },
  {
   "cell_type": "code",
   "execution_count": 108,
   "outputs": [
    {
     "data": {
      "text/plain": "1"
     },
     "execution_count": 108,
     "metadata": {},
     "output_type": "execute_result"
    }
   ],
   "source": [
    "\n",
    "np.argmin(x)"
   ],
   "metadata": {
    "collapsed": false,
    "pycharm": {
     "name": "#%%\n"
    }
   }
  },
  {
   "cell_type": "code",
   "execution_count": 109,
   "outputs": [
    {
     "data": {
      "text/plain": "array([[ 2,  3,  5],\n       [20, 12,  4]])"
     },
     "execution_count": 109,
     "metadata": {},
     "output_type": "execute_result"
    }
   ],
   "source": [
    "\n",
    "x = np.array([[2, 3, 5], [20, 12, 4]])\n",
    "x"
   ],
   "metadata": {
    "collapsed": false,
    "pycharm": {
     "name": "#%%\n"
    }
   }
  },
  {
   "cell_type": "code",
   "execution_count": 110,
   "outputs": [
    {
     "data": {
      "text/plain": "7.666666666666667"
     },
     "execution_count": 110,
     "metadata": {},
     "output_type": "execute_result"
    }
   ],
   "source": [
    "\n",
    "np.mean(x)"
   ],
   "metadata": {
    "collapsed": false,
    "pycharm": {
     "name": "#%%\n"
    }
   }
  },
  {
   "cell_type": "code",
   "execution_count": 112,
   "outputs": [
    {
     "data": {
      "text/plain": "array([ 3.33333333, 12.        ])"
     },
     "execution_count": 112,
     "metadata": {},
     "output_type": "execute_result"
    }
   ],
   "source": [
    "\n",
    "np.mean(x, axis=1)"
   ],
   "metadata": {
    "collapsed": false,
    "pycharm": {
     "name": "#%%\n"
    }
   }
  },
  {
   "cell_type": "code",
   "execution_count": 113,
   "outputs": [
    {
     "data": {
      "text/plain": "array([11. ,  7.5,  4.5])"
     },
     "execution_count": 113,
     "metadata": {},
     "output_type": "execute_result"
    }
   ],
   "source": [
    "\n",
    "np.mean(x, axis=0)"
   ],
   "metadata": {
    "collapsed": false,
    "pycharm": {
     "name": "#%%\n"
    }
   }
  },
  {
   "cell_type": "code",
   "execution_count": 115,
   "outputs": [
    {
     "data": {
      "text/plain": "array([[ 2,  3,  5],\n       [20, 12,  4]])"
     },
     "execution_count": 115,
     "metadata": {},
     "output_type": "execute_result"
    }
   ],
   "source": [
    "x"
   ],
   "metadata": {
    "collapsed": false,
    "pycharm": {
     "name": "#%%\n"
    }
   }
  },
  {
   "cell_type": "code",
   "execution_count": 114,
   "outputs": [
    {
     "data": {
      "text/plain": "4.5"
     },
     "execution_count": 114,
     "metadata": {},
     "output_type": "execute_result"
    }
   ],
   "source": [
    "\n",
    "np.median(x)"
   ],
   "metadata": {
    "collapsed": false,
    "pycharm": {
     "name": "#%%\n"
    }
   }
  },
  {
   "cell_type": "code",
   "execution_count": 116,
   "outputs": [
    {
     "data": {
      "text/plain": "6.394442031083626"
     },
     "execution_count": 116,
     "metadata": {},
     "output_type": "execute_result"
    }
   ],
   "source": [
    "\n",
    "np.std(x)"
   ],
   "metadata": {
    "collapsed": false,
    "pycharm": {
     "name": "#%%\n"
    }
   }
  },
  {
   "cell_type": "code",
   "execution_count": null,
   "outputs": [],
   "source": [],
   "metadata": {
    "collapsed": false,
    "pycharm": {
     "name": "#%%\n"
    }
   }
  },
  {
   "cell_type": "markdown",
   "source": [
    "# Многомерные массивы"
   ],
   "metadata": {
    "collapsed": false,
    "pycharm": {
     "name": "#%% md\n"
    }
   }
  },
  {
   "cell_type": "code",
   "execution_count": 117,
   "outputs": [],
   "source": [
    "c = np.ones((4, 4))"
   ],
   "metadata": {
    "collapsed": false,
    "pycharm": {
     "name": "#%%\n"
    }
   }
  },
  {
   "cell_type": "code",
   "execution_count": 118,
   "outputs": [
    {
     "data": {
      "text/plain": "array([[1., 1., 1., 1.],\n       [1., 1., 1., 1.],\n       [1., 1., 1., 1.],\n       [1., 1., 1., 1.]])"
     },
     "execution_count": 118,
     "metadata": {},
     "output_type": "execute_result"
    }
   ],
   "source": [
    "c"
   ],
   "metadata": {
    "collapsed": false,
    "pycharm": {
     "name": "#%%\n"
    }
   }
  },
  {
   "cell_type": "code",
   "execution_count": 119,
   "outputs": [
    {
     "data": {
      "text/plain": "array([[1., 1., 1., 1.],\n       [1., 1., 1., 1.],\n       [1., 1., 1., 1.],\n       [1., 1., 1., 1.]])"
     },
     "execution_count": 119,
     "metadata": {},
     "output_type": "execute_result"
    }
   ],
   "source": [
    "\n",
    "c * c"
   ],
   "metadata": {
    "collapsed": false,
    "pycharm": {
     "name": "#%%\n"
    }
   }
  },
  {
   "cell_type": "code",
   "execution_count": 120,
   "outputs": [
    {
     "data": {
      "text/plain": "array([[4., 4., 4., 4.],\n       [4., 4., 4., 4.],\n       [4., 4., 4., 4.],\n       [4., 4., 4., 4.]])"
     },
     "execution_count": 120,
     "metadata": {},
     "output_type": "execute_result"
    }
   ],
   "source": [
    "\n",
    "c.dot(c)"
   ],
   "metadata": {
    "collapsed": false,
    "pycharm": {
     "name": "#%%\n"
    }
   }
  },
  {
   "cell_type": "code",
   "execution_count": 121,
   "outputs": [],
   "source": [
    "\n",
    "y = np.arange(15).reshape(3, 5)\n",
    "x = np.arange(10).reshape(2, 5)"
   ],
   "metadata": {
    "collapsed": false,
    "pycharm": {
     "name": "#%%\n"
    }
   }
  },
  {
   "cell_type": "code",
   "execution_count": 123,
   "outputs": [
    {
     "data": {
      "text/plain": "array([[ 0,  1,  2,  3,  4],\n       [ 5,  6,  7,  8,  9],\n       [10, 11, 12, 13, 14]])"
     },
     "execution_count": 123,
     "metadata": {},
     "output_type": "execute_result"
    }
   ],
   "source": [
    "y"
   ],
   "metadata": {
    "collapsed": false,
    "pycharm": {
     "name": "#%%\n"
    }
   }
  },
  {
   "cell_type": "code",
   "execution_count": null,
   "outputs": [],
   "source": [],
   "metadata": {
    "collapsed": false,
    "pycharm": {
     "name": "#%%\n"
    }
   }
  },
  {
   "cell_type": "code",
   "execution_count": 124,
   "outputs": [
    {
     "data": {
      "text/plain": "array([[ 0,  1,  2,  3,  4],\n       [ 5,  6,  7,  8,  9],\n       [10, 11, 12, 13, 14],\n       [ 0,  1,  2,  3,  4],\n       [ 5,  6,  7,  8,  9]])"
     },
     "execution_count": 124,
     "metadata": {},
     "output_type": "execute_result"
    }
   ],
   "source": [
    "\n",
    "new_array = np.vstack((y, x))\n",
    "new_array"
   ],
   "metadata": {
    "collapsed": false,
    "pycharm": {
     "name": "#%%\n"
    }
   }
  },
  {
   "cell_type": "code",
   "execution_count": 126,
   "outputs": [],
   "source": [
    "\n",
    "y = np.arange(15).reshape(5, 3)\n",
    "x = np.arange(10).reshape(5, 2)"
   ],
   "metadata": {
    "collapsed": false,
    "pycharm": {
     "name": "#%%\n"
    }
   }
  },
  {
   "cell_type": "code",
   "execution_count": 128,
   "outputs": [
    {
     "data": {
      "text/plain": "array([[ 0,  1,  2],\n       [ 3,  4,  5],\n       [ 6,  7,  8],\n       [ 9, 10, 11],\n       [12, 13, 14]])"
     },
     "execution_count": 128,
     "metadata": {},
     "output_type": "execute_result"
    }
   ],
   "source": [
    "y"
   ],
   "metadata": {
    "collapsed": false,
    "pycharm": {
     "name": "#%%\n"
    }
   }
  },
  {
   "cell_type": "code",
   "execution_count": 129,
   "outputs": [
    {
     "data": {
      "text/plain": "array([[ 0,  1,  2,  0,  1],\n       [ 3,  4,  5,  2,  3],\n       [ 6,  7,  8,  4,  5],\n       [ 9, 10, 11,  6,  7],\n       [12, 13, 14,  8,  9]])"
     },
     "execution_count": 129,
     "metadata": {},
     "output_type": "execute_result"
    }
   ],
   "source": [
    "\n",
    "new_array = np.hstack((y, x))\n",
    "new_array"
   ],
   "metadata": {
    "collapsed": false,
    "pycharm": {
     "name": "#%%\n"
    }
   }
  },
  {
   "cell_type": "code",
   "execution_count": 130,
   "outputs": [],
   "source": [
    "\n",
    "from scipy import stats\n",
    "\n",
    "x = np.random.rand(100, 10)\n"
   ],
   "metadata": {
    "collapsed": false,
    "pycharm": {
     "name": "#%%\n"
    }
   }
  },
  {
   "cell_type": "code",
   "execution_count": 133,
   "outputs": [],
   "source": [],
   "metadata": {
    "collapsed": false,
    "pycharm": {
     "name": "#%%\n"
    }
   }
  },
  {
   "cell_type": "code",
   "execution_count": 134,
   "outputs": [],
   "source": [
    "\n",
    "n, min_max, mean, var, skew, kurt = stats.describe(x)"
   ],
   "metadata": {
    "collapsed": false,
    "pycharm": {
     "name": "#%%\n"
    }
   }
  },
  {
   "cell_type": "code",
   "execution_count": 136,
   "outputs": [],
   "source": [
    "\n",
    "new_array = np.vstack((mean, var, skew, kurt, min_max[0], min_max[1]))"
   ],
   "metadata": {
    "collapsed": false,
    "pycharm": {
     "name": "#%%\n"
    }
   }
  },
  {
   "cell_type": "code",
   "execution_count": 137,
   "outputs": [
    {
     "data": {
      "text/plain": "array([[ 5.05229338e-01,  4.89832091e-01,  5.00241168e-01,\n         4.83705185e-01,  4.57991725e-01,  4.82256423e-01,\n         4.96737642e-01,  4.96725839e-01,  4.87732323e-01,\n         4.98888483e-01],\n       [ 7.92788287e-02,  8.27135724e-02,  8.50388191e-02,\n         8.56676833e-02,  7.45612874e-02,  7.39789046e-02,\n         7.19017326e-02,  8.53095320e-02,  7.16385266e-02,\n         1.01433845e-01],\n       [-1.09479276e-01,  8.96744843e-02, -5.37917668e-03,\n         1.55797928e-01,  1.02169166e-01,  2.47331044e-01,\n         1.59577377e-01,  2.50986551e-02, -4.15350460e-02,\n        -2.63667191e-02],\n       [-1.12139701e+00, -1.20645481e+00, -1.29763877e+00,\n        -1.26373695e+00, -1.16785176e+00, -1.07757602e+00,\n        -1.04068592e+00, -1.35106968e+00, -9.94601664e-01,\n        -1.45130134e+00],\n       [ 6.84812877e-03,  1.82197452e-03,  7.91891054e-03,\n         2.43447581e-02,  1.66479379e-02,  7.76885650e-03,\n         9.28352754e-05,  3.58178844e-03,  1.54848697e-03,\n         2.06638092e-03],\n       [ 9.72780347e-01,  9.99819309e-01,  9.91911530e-01,\n         9.95995648e-01,  9.94179712e-01,  9.96531320e-01,\n         9.95083375e-01,  9.68587384e-01,  9.61313415e-01,\n         9.96233073e-01]])"
     },
     "execution_count": 137,
     "metadata": {},
     "output_type": "execute_result"
    }
   ],
   "source": [
    "new_array"
   ],
   "metadata": {
    "collapsed": false,
    "pycharm": {
     "name": "#%%\n"
    }
   }
  },
  {
   "cell_type": "code",
   "execution_count": null,
   "outputs": [],
   "source": [
    "\n",
    "new_array.T\n"
   ],
   "metadata": {
    "collapsed": false,
    "pycharm": {
     "name": "#%%\n"
    }
   }
  },
  {
   "cell_type": "markdown",
   "source": [],
   "metadata": {
    "collapsed": false
   }
  },
  {
   "cell_type": "markdown",
   "source": [
    "# Индексы и слайсы"
   ],
   "metadata": {
    "collapsed": false,
    "pycharm": {
     "name": "#%% md\n"
    }
   }
  },
  {
   "cell_type": "markdown",
   "source": [],
   "metadata": {
    "collapsed": false
   }
  },
  {
   "cell_type": "code",
   "execution_count": 138,
   "outputs": [
    {
     "data": {
      "text/plain": "'Germany'"
     },
     "execution_count": 138,
     "metadata": {},
     "output_type": "execute_result"
    }
   ],
   "source": [
    "x = [\"USA\", \"France\", \"Germany\", \"England\"]\n",
    "x[2]"
   ],
   "metadata": {
    "collapsed": false,
    "pycharm": {
     "name": "#%%\n"
    }
   }
  },
  {
   "cell_type": "code",
   "execution_count": 139,
   "outputs": [
    {
     "data": {
      "text/plain": "'France'"
     },
     "execution_count": 139,
     "metadata": {},
     "output_type": "execute_result"
    }
   ],
   "source": [
    "\n",
    "x = ('USA', 3, \"France\", 4)\n",
    "x[2]"
   ],
   "metadata": {
    "collapsed": false,
    "pycharm": {
     "name": "#%%\n"
    }
   }
  },
  {
   "cell_type": "code",
   "execution_count": 140,
   "outputs": [],
   "source": [
    "\n",
    "x = np.arange(10)"
   ],
   "metadata": {
    "collapsed": false,
    "pycharm": {
     "name": "#%%\n"
    }
   }
  },
  {
   "cell_type": "code",
   "execution_count": 141,
   "outputs": [
    {
     "data": {
      "text/plain": "array([0, 1, 2, 3, 4, 5, 6, 7, 8, 9])"
     },
     "execution_count": 141,
     "metadata": {},
     "output_type": "execute_result"
    }
   ],
   "source": [
    "\n",
    "x"
   ],
   "metadata": {
    "collapsed": false,
    "pycharm": {
     "name": "#%%\n"
    }
   }
  },
  {
   "cell_type": "code",
   "execution_count": 142,
   "outputs": [
    {
     "data": {
      "text/plain": "5"
     },
     "execution_count": 142,
     "metadata": {},
     "output_type": "execute_result"
    }
   ],
   "source": [
    "\n",
    "x[5]"
   ],
   "metadata": {
    "collapsed": false,
    "pycharm": {
     "name": "#%%\n"
    }
   }
  },
  {
   "cell_type": "code",
   "execution_count": 145,
   "outputs": [
    {
     "data": {
      "text/plain": "8"
     },
     "execution_count": 145,
     "metadata": {},
     "output_type": "execute_result"
    }
   ],
   "source": [
    "\n",
    "x[-2]"
   ],
   "metadata": {
    "collapsed": false,
    "pycharm": {
     "name": "#%%\n"
    }
   }
  },
  {
   "cell_type": "code",
   "execution_count": 146,
   "outputs": [
    {
     "data": {
      "text/plain": "array([2, 3, 4, 5, 6, 7])"
     },
     "execution_count": 146,
     "metadata": {},
     "output_type": "execute_result"
    }
   ],
   "source": [
    "\n",
    "x[2:8]"
   ],
   "metadata": {
    "collapsed": false,
    "pycharm": {
     "name": "#%%\n"
    }
   }
  },
  {
   "cell_type": "code",
   "execution_count": 147,
   "outputs": [
    {
     "data": {
      "text/plain": "array([0, 1, 2, 3, 4, 5, 6, 7, 8, 9])"
     },
     "execution_count": 147,
     "metadata": {},
     "output_type": "execute_result"
    }
   ],
   "source": [
    "\n",
    "x[:]"
   ],
   "metadata": {
    "collapsed": false,
    "pycharm": {
     "name": "#%%\n"
    }
   }
  },
  {
   "cell_type": "code",
   "execution_count": 149,
   "outputs": [
    {
     "data": {
      "text/plain": "array([2, 4, 6])"
     },
     "execution_count": 149,
     "metadata": {},
     "output_type": "execute_result"
    }
   ],
   "source": [
    "\n",
    "x[2:8:2]\n"
   ],
   "metadata": {
    "collapsed": false,
    "pycharm": {
     "name": "#%%\n"
    }
   }
  },
  {
   "cell_type": "code",
   "execution_count": 150,
   "outputs": [],
   "source": [
    "\n",
    "x = np.reshape(np.arange(16), (4, 4))"
   ],
   "metadata": {
    "collapsed": false,
    "pycharm": {
     "name": "#%%\n"
    }
   }
  },
  {
   "cell_type": "code",
   "execution_count": 151,
   "outputs": [
    {
     "data": {
      "text/plain": "array([[ 0,  1,  2,  3],\n       [ 4,  5,  6,  7],\n       [ 8,  9, 10, 11],\n       [12, 13, 14, 15]])"
     },
     "execution_count": 151,
     "metadata": {},
     "output_type": "execute_result"
    }
   ],
   "source": [
    "\n",
    "x"
   ],
   "metadata": {
    "collapsed": false,
    "pycharm": {
     "name": "#%%\n"
    }
   }
  },
  {
   "cell_type": "code",
   "execution_count": 152,
   "outputs": [
    {
     "data": {
      "text/plain": "array([[ 4,  5,  6,  7],\n       [ 8,  9, 10, 11]])"
     },
     "execution_count": 152,
     "metadata": {},
     "output_type": "execute_result"
    }
   ],
   "source": [
    "\n",
    "x[1:3]"
   ],
   "metadata": {
    "collapsed": false,
    "pycharm": {
     "name": "#%%\n"
    }
   }
  },
  {
   "cell_type": "code",
   "execution_count": 153,
   "outputs": [
    {
     "data": {
      "text/plain": "array([[ 1,  2],\n       [ 5,  6],\n       [ 9, 10],\n       [13, 14]])"
     },
     "execution_count": 153,
     "metadata": {},
     "output_type": "execute_result"
    }
   ],
   "source": [
    "\n",
    "x[:, 1:3]"
   ],
   "metadata": {
    "collapsed": false,
    "pycharm": {
     "name": "#%%\n"
    }
   }
  },
  {
   "cell_type": "code",
   "execution_count": 154,
   "outputs": [
    {
     "data": {
      "text/plain": "array([[ 5,  6],\n       [ 9, 10]])"
     },
     "execution_count": 154,
     "metadata": {},
     "output_type": "execute_result"
    }
   ],
   "source": [
    "\n",
    "x[1:3, 1:3]"
   ],
   "metadata": {
    "collapsed": false,
    "pycharm": {
     "name": "#%%\n"
    }
   }
  },
  {
   "cell_type": "code",
   "execution_count": 155,
   "outputs": [],
   "source": [
    "\n",
    "x = np.reshape(np.arange(16), (4, 4))"
   ],
   "metadata": {
    "collapsed": false,
    "pycharm": {
     "name": "#%%\n"
    }
   }
  },
  {
   "cell_type": "code",
   "execution_count": 156,
   "outputs": [
    {
     "data": {
      "text/plain": "array([[ 0,  1,  2,  3],\n       [ 4,  5,  6,  7],\n       [ 8,  9, 10, 11],\n       [12, 13, 14, 15]])"
     },
     "execution_count": 156,
     "metadata": {},
     "output_type": "execute_result"
    }
   ],
   "source": [
    "\n",
    "x"
   ],
   "metadata": {
    "collapsed": false,
    "pycharm": {
     "name": "#%%\n"
    }
   }
  },
  {
   "cell_type": "code",
   "execution_count": 161,
   "outputs": [
    {
     "data": {
      "text/plain": "array([ 0,  5, 11])"
     },
     "execution_count": 161,
     "metadata": {},
     "output_type": "execute_result"
    }
   ],
   "source": [
    "\n",
    "x[[0, 1, 2], [0, 1, 3]]"
   ],
   "metadata": {
    "collapsed": false,
    "pycharm": {
     "name": "#%%\n"
    }
   }
  },
  {
   "cell_type": "code",
   "execution_count": 162,
   "outputs": [],
   "source": [
    "\n",
    "x = np.arange(16).reshape(4, 4)"
   ],
   "metadata": {
    "collapsed": false,
    "pycharm": {
     "name": "#%%\n"
    }
   }
  },
  {
   "cell_type": "code",
   "execution_count": 163,
   "outputs": [
    {
     "data": {
      "text/plain": "array([[ 0,  1,  2,  3],\n       [ 4,  5,  6,  7],\n       [ 8,  9, 10, 11],\n       [12, 13, 14, 15]])"
     },
     "execution_count": 163,
     "metadata": {},
     "output_type": "execute_result"
    }
   ],
   "source": [
    "\n",
    "x"
   ],
   "metadata": {
    "collapsed": false,
    "pycharm": {
     "name": "#%%\n"
    }
   }
  },
  {
   "cell_type": "code",
   "execution_count": 164,
   "outputs": [
    {
     "data": {
      "text/plain": "array([[0, 1],\n       [2, 3]])"
     },
     "execution_count": 164,
     "metadata": {},
     "output_type": "execute_result"
    }
   ],
   "source": [
    "\n",
    "np.resize(x, (2, 2))"
   ],
   "metadata": {
    "collapsed": false,
    "pycharm": {
     "name": "#%%\n"
    }
   }
  },
  {
   "cell_type": "code",
   "execution_count": 165,
   "outputs": [
    {
     "data": {
      "text/plain": "array([[ 0,  1,  2,  3,  4,  5],\n       [ 6,  7,  8,  9, 10, 11],\n       [12, 13, 14, 15,  0,  1],\n       [ 2,  3,  4,  5,  6,  7],\n       [ 8,  9, 10, 11, 12, 13],\n       [14, 15,  0,  1,  2,  3]])"
     },
     "execution_count": 165,
     "metadata": {},
     "output_type": "execute_result"
    }
   ],
   "source": [
    "\n",
    "np.resize(x, (6, 6))"
   ],
   "metadata": {
    "collapsed": false,
    "pycharm": {
     "name": "#%%\n"
    }
   }
  },
  {
   "cell_type": "code",
   "execution_count": 169,
   "outputs": [],
   "source": [
    "\n",
    "x = np.arange(16).reshape(4, 4)"
   ],
   "metadata": {
    "collapsed": false,
    "pycharm": {
     "name": "#%%\n"
    }
   }
  },
  {
   "cell_type": "code",
   "execution_count": 170,
   "outputs": [],
   "source": [
    "\n",
    "y = np.arange(6).reshape(2, 3)"
   ],
   "metadata": {
    "collapsed": false,
    "pycharm": {
     "name": "#%%\n"
    }
   }
  },
  {
   "cell_type": "code",
   "execution_count": 171,
   "outputs": [
    {
     "ename": "ValueError",
     "evalue": "operands could not be broadcast together with shapes (4,4) (2,3) ",
     "output_type": "error",
     "traceback": [
      "\u001B[0;31m---------------------------------------------------------------------------\u001B[0m",
      "\u001B[0;31mValueError\u001B[0m                                Traceback (most recent call last)",
      "\u001B[0;32m/var/folders/9z/_pdr4vys3c9_sdhkgcm_5s540000gn/T/ipykernel_36472/1648306076.py\u001B[0m in \u001B[0;36m<module>\u001B[0;34m\u001B[0m\n\u001B[0;32m----> 1\u001B[0;31m \u001B[0mx\u001B[0m \u001B[0;34m+\u001B[0m \u001B[0my\u001B[0m\u001B[0;34m\u001B[0m\u001B[0;34m\u001B[0m\u001B[0m\n\u001B[0m",
      "\u001B[0;31mValueError\u001B[0m: operands could not be broadcast together with shapes (4,4) (2,3) "
     ]
    }
   ],
   "source": [
    "\n",
    "x + y"
   ],
   "metadata": {
    "collapsed": false,
    "pycharm": {
     "name": "#%%\n"
    }
   }
  },
  {
   "cell_type": "code",
   "execution_count": 173,
   "outputs": [],
   "source": [
    "\n",
    "x = np.ones(16).reshape(4, 4)"
   ],
   "metadata": {
    "collapsed": false,
    "pycharm": {
     "name": "#%%\n"
    }
   }
  },
  {
   "cell_type": "code",
   "execution_count": 174,
   "outputs": [],
   "source": [
    "\n",
    "y = np.arange(4)"
   ],
   "metadata": {
    "collapsed": false,
    "pycharm": {
     "name": "#%%\n"
    }
   }
  },
  {
   "cell_type": "code",
   "execution_count": 175,
   "outputs": [
    {
     "data": {
      "text/plain": "array([[0., 1., 2., 3.],\n       [0., 1., 2., 3.],\n       [0., 1., 2., 3.],\n       [0., 1., 2., 3.]])"
     },
     "execution_count": 175,
     "metadata": {},
     "output_type": "execute_result"
    }
   ],
   "source": [
    "\n",
    "x * y"
   ],
   "metadata": {
    "collapsed": false,
    "pycharm": {
     "name": "#%%\n"
    }
   }
  },
  {
   "cell_type": "code",
   "execution_count": 176,
   "outputs": [
    {
     "data": {
      "text/plain": "array([[0, 1],\n       [2, 3]])"
     },
     "execution_count": 176,
     "metadata": {},
     "output_type": "execute_result"
    }
   ],
   "source": [
    "\n",
    "x = np.arange(4).reshape(2, 2)\n",
    "x"
   ],
   "metadata": {
    "collapsed": false,
    "pycharm": {
     "name": "#%%\n"
    }
   }
  },
  {
   "cell_type": "code",
   "execution_count": 182,
   "outputs": [
    {
     "data": {
      "text/plain": "array([[0, 1]])"
     },
     "execution_count": 182,
     "metadata": {},
     "output_type": "execute_result"
    }
   ],
   "source": [
    "\n",
    "y = np.arange(2).reshape(1, 2)\n",
    "y"
   ],
   "metadata": {
    "collapsed": false,
    "pycharm": {
     "name": "#%%\n"
    }
   }
  },
  {
   "cell_type": "code",
   "execution_count": 181,
   "outputs": [
    {
     "ename": "ValueError",
     "evalue": "operands could not be broadcast together with shapes (2,2) (1,4) ",
     "output_type": "error",
     "traceback": [
      "\u001B[0;31m---------------------------------------------------------------------------\u001B[0m",
      "\u001B[0;31mValueError\u001B[0m                                Traceback (most recent call last)",
      "\u001B[0;32m/var/folders/9z/_pdr4vys3c9_sdhkgcm_5s540000gn/T/ipykernel_36472/1968342507.py\u001B[0m in \u001B[0;36m<module>\u001B[0;34m\u001B[0m\n\u001B[0;32m----> 1\u001B[0;31m \u001B[0mx\u001B[0m \u001B[0;34m*\u001B[0m \u001B[0my\u001B[0m\u001B[0;34m\u001B[0m\u001B[0;34m\u001B[0m\u001B[0m\n\u001B[0m",
      "\u001B[0;31mValueError\u001B[0m: operands could not be broadcast together with shapes (2,2) (1,4) "
     ]
    }
   ],
   "source": [
    "\n",
    "x * y"
   ],
   "metadata": {
    "collapsed": false,
    "pycharm": {
     "name": "#%%\n"
    }
   }
  },
  {
   "cell_type": "code",
   "execution_count": null,
   "outputs": [],
   "source": [],
   "metadata": {
    "collapsed": false,
    "pycharm": {
     "name": "#%%\n"
    }
   }
  }
 ],
 "metadata": {
  "kernelspec": {
   "display_name": "Python 3",
   "language": "python",
   "name": "python3"
  },
  "language_info": {
   "codemirror_mode": {
    "name": "ipython",
    "version": 2
   },
   "file_extension": ".py",
   "mimetype": "text/x-python",
   "name": "python",
   "nbconvert_exporter": "python",
   "pygments_lexer": "ipython2",
   "version": "2.7.6"
  }
 },
 "nbformat": 4,
 "nbformat_minor": 0
}